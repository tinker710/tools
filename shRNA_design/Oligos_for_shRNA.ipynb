{
 "cells": [
  {
   "cell_type": "markdown",
   "id": "3f55ed0f",
   "metadata": {},
   "source": [
    "# 1. determining the optimal 21 -mer Targets in your Gene\n",
    "## 1.1 Sigma\n",
    "[mission shRNA product offerings](https://www.sigmaaldrich.cn/CN/zh/product/sigma/shrna)\n",
    "1. Mission lentiviral controls\n",
    "[control](https://www.sigmaaldrich.com/HK/zh/technical-documents/technical-article/genomics/advanced-gene-editing/shrna-controls)\n",
    "\n",
    "## 1.2 generate oligos compatible with pLKO.1\n",
    "To generate oligos for cloning into pLKO.1, insert your sense and antisense sequences from step B.1 into the oligos below. Do not change the ends; these bases are important for cloning the oligos into the pLKO.1 TRC-cloning vector.\n",
    "1. Forward oligo: 5’ CCGG—21bp sense—CTCGAG—21bp antisense—TTTTTG 3’\n",
    "2. Reverse oligo: 5'  AATTCAAAAA—21bp sense—CTCGAG—21bp antisense 3’\n"
   ]
  },
  {
   "cell_type": "code",
   "execution_count": 5,
   "id": "efd070e4",
   "metadata": {},
   "outputs": [
    {
     "name": "stdout",
     "output_type": "stream",
     "text": [
      "input target sequenceAATGCCTACGTTAAGCTATAC\n",
      "ccggAATGCCTACGTTAAGCTATACctcgagGTATAGCTTAACGTAGGCATTtttttg\n",
      "aattcaaaaaAATGCCTACGTTAAGCTATACctcgagGTATAGCTTAACGTAGGCATT\n"
     ]
    }
   ],
   "source": [
    "def antisense(sense_seq):\n",
    "    dict_ATGC = {\"A\":\"T\",\"T\":\"A\",\"G\":\"C\",\"C\":\"G\"}\n",
    "    antisense_seq = \"\"\n",
    "    for i in sense_seq[-1::-1]:\n",
    "        antisense_seq += dict_ATGC[i]\n",
    "        #print(antisense_seq)\n",
    "    return antisense_seq\n",
    "    \n",
    "target_seq = input(\"input target sequence\")\n",
    "sense_seq = target_seq.upper()\n",
    "antisense_seq = antisense(sense_seq)\n",
    "forward_oligo = \"ccgg\"+sense_seq+\"ctcgag\"+antisense_seq+\"tttttg\"\n",
    "reverse_oligo = \"aattcaaaaa\"+sense_seq+\"ctcgag\"+antisense_seq\n",
    "print(forward_oligo)\n",
    "print(reverse_oligo)\n",
    "\n",
    "\n",
    "\n"
   ]
  },
  {
   "cell_type": "markdown",
   "id": "86da8ee2",
   "metadata": {},
   "source": [
    "## Full codes\n",
    "```python\n",
    "import argparse\n",
    "import os\n",
    "\n",
    "def antisense(sense_seq):\n",
    "    dict_ATGC = {\"A\":\"T\",\"T\":\"A\",\"G\":\"C\",\"C\":\"G\"}\n",
    "    antisense_seq = \"\"\n",
    "    for i in sense_seq[-1::-1]:\n",
    "        antisense_seq += dict_ATGC[i]\n",
    "        #print(antisense_seq)\n",
    "    return antisense_seq\n",
    "\n",
    "\n",
    "parser = argparse.ArgumentParser(description=\"test\")\n",
    "parser.add_argument('--target', type = str)\n",
    "parser.add_argument('--output', type = str)\n",
    "args = parser.parse_args()\n",
    "\n",
    "file_out = open(os.path.join(args.output,'oligos_out.txt'),\"w\")\n",
    "\n",
    "with open(args.target,'r') as file1:\n",
    "\tdata1 = file1.readlines()\n",
    "\tfor line in data1[1:]:\n",
    "\t\tname, target_seq = line.strip().split(\"\\t\")\n",
    "\t\tsense_seq = target_seq.upper()\n",
    "\t\tantisense_seq = antisense(sense_seq)\n",
    "\t\tforward_oligo = \"ccgg\"+sense_seq+\"ctcgag\"+antisense_seq+\"tttttg\"\n",
    "\t\treverse_oligo = \"aattcaaaaa\"+sense_seq+\"ctcgag\"+antisense_seq\n",
    "\t\tfile_out.write(\"{}_OF\\t{}\\n\".format(name,forward_oligo))\n",
    "\t\tfile_out.write(\"{}_OR\\t{}\\n\".format(name,reverse_oligo))\n",
    "file_out.close()\n",
    "print(\"OK\")\n",
    "```\n",
    "### usage\n",
    "```shell\n",
    "python .\\plasmids\\pLX004-00_pLKO.1-Azin1\\oligos_from_targetseq.py --target .\\plasmids\\pLX004-00_pLKO.1-Azin1\\test.txt --output .\\plasmids\\pLX004-00_pLKO.1-Azin1\\\n",
    "```"
   ]
  }
 ],
 "metadata": {
  "kernelspec": {
   "display_name": "Python 3 (ipykernel)",
   "language": "python",
   "name": "python3"
  },
  "language_info": {
   "codemirror_mode": {
    "name": "ipython",
    "version": 3
   },
   "file_extension": ".py",
   "mimetype": "text/x-python",
   "name": "python",
   "nbconvert_exporter": "python",
   "pygments_lexer": "ipython3",
   "version": "3.9.15"
  }
 },
 "nbformat": 4,
 "nbformat_minor": 5
}
